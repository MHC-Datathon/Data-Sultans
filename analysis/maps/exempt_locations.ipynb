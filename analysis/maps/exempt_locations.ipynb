{
 "cells": [
  {
   "cell_type": "code",
   "execution_count": 858,
   "id": "91fb87d3",
   "metadata": {},
   "outputs": [
    {
     "name": "stdout",
     "output_type": "stream",
     "text": [
      "Requirement already satisfied: geopandas in c:\\users\\maida\\appdata\\local\\programs\\python\\python313\\lib\\site-packages (1.1.1)\n",
      "Requirement already satisfied: numpy>=1.24 in c:\\users\\maida\\appdata\\local\\programs\\python\\python313\\lib\\site-packages (from geopandas) (2.3.3)\n",
      "Requirement already satisfied: pyogrio>=0.7.2 in c:\\users\\maida\\appdata\\local\\programs\\python\\python313\\lib\\site-packages (from geopandas) (0.11.1)\n",
      "Requirement already satisfied: packaging in c:\\users\\maida\\appdata\\roaming\\python\\python313\\site-packages (from geopandas) (25.0)\n",
      "Requirement already satisfied: pandas>=2.0.0 in c:\\users\\maida\\appdata\\local\\programs\\python\\python313\\lib\\site-packages (from geopandas) (2.3.2)\n",
      "Requirement already satisfied: pyproj>=3.5.0 in c:\\users\\maida\\appdata\\local\\programs\\python\\python313\\lib\\site-packages (from geopandas) (3.7.2)\n",
      "Requirement already satisfied: shapely>=2.0.0 in c:\\users\\maida\\appdata\\local\\programs\\python\\python313\\lib\\site-packages (from geopandas) (2.1.1)\n",
      "Requirement already satisfied: python-dateutil>=2.8.2 in c:\\users\\maida\\appdata\\roaming\\python\\python313\\site-packages (from pandas>=2.0.0->geopandas) (2.9.0.post0)\n",
      "Requirement already satisfied: pytz>=2020.1 in c:\\users\\maida\\appdata\\local\\programs\\python\\python313\\lib\\site-packages (from pandas>=2.0.0->geopandas) (2025.2)\n",
      "Requirement already satisfied: tzdata>=2022.7 in c:\\users\\maida\\appdata\\local\\programs\\python\\python313\\lib\\site-packages (from pandas>=2.0.0->geopandas) (2025.2)\n",
      "Requirement already satisfied: certifi in c:\\users\\maida\\appdata\\local\\programs\\python\\python313\\lib\\site-packages (from pyogrio>=0.7.2->geopandas) (2025.8.3)\n",
      "Requirement already satisfied: six>=1.5 in c:\\users\\maida\\appdata\\roaming\\python\\python313\\site-packages (from python-dateutil>=2.8.2->pandas>=2.0.0->geopandas) (1.17.0)\n",
      "Note: you may need to restart the kernel to use updated packages.\n"
     ]
    },
    {
     "name": "stderr",
     "output_type": "stream",
     "text": [
      "\n",
      "[notice] A new release of pip is available: 24.3.1 -> 25.2\n",
      "[notice] To update, run: python.exe -m pip install --upgrade pip\n"
     ]
    }
   ],
   "source": [
    "%pip install geopandas"
   ]
  },
  {
   "cell_type": "code",
   "execution_count": 859,
   "id": "d0cceb22",
   "metadata": {},
   "outputs": [],
   "source": [
    "import os, glob, io, zipfile, webbrowser\n",
    "import pandas as pd\n",
    "import geopandas as gpd\n",
    "from shapely.geometry import LineString, Point\n",
    "from pathlib import Path\n",
    "import folium\n",
    "from folium.plugins import MarkerCluster"
   ]
  },
  {
   "cell_type": "code",
   "execution_count": 860,
   "id": "757ae4a8",
   "metadata": {},
   "outputs": [
    {
     "name": "stdout",
     "output_type": "stream",
     "text": [
      "Violation Status\n",
      "VIOLATION ISSUED                2312878\n",
      "TECHNICAL ISSUE/OTHER            320912\n",
      "EXEMPT - EMERGENCY VEHICLE       286253\n",
      "DRIVER/VEHICLE INFO MISSING      273968\n",
      "EXEMPT - COMMERCIAL UNDER 20     257374\n",
      "EXEMPT - BUS/PARATRANSIT         190192\n",
      "EXEMPT - OTHER                   136991\n",
      "Name: count, dtype: int64\n"
     ]
    }
   ],
   "source": [
    "ace_violation_ds = \"MTA_Bus_Automated_Camera_Enforcement_Violations__Beginning_October_2019_20250918.csv\"\n",
    "\n",
    "violations = pd.read_csv(ace_violation_ds, dtype={'Vehicle ID': str, 'First Occurrence':str, \"Last Occurrence\": str, \"Violation Status\": str,           \n",
    "\"Violation Type\":str, 'Bus Route ID': str, 'Stop Name': str})\n",
    "\n",
    "print(violations['Violation Status'].value_counts())"
   ]
  },
  {
   "cell_type": "code",
   "execution_count": null,
   "id": "56fb49fc",
   "metadata": {},
   "outputs": [],
   "source": [
    "print(len(violations))"
   ]
  },
  {
   "cell_type": "code",
   "execution_count": null,
   "id": "5bf9cf9e",
   "metadata": {},
   "outputs": [],
   "source": [
    "FOLDER = Path(\"./bus_gtfs\")  # or change to another working path\n",
    "print(\"FOLDER exists?\", FOLDER.exists())"
   ]
  },
  {
   "cell_type": "code",
   "execution_count": null,
   "id": "c4728c42",
   "metadata": {},
   "outputs": [],
   "source": [
    "### Verify the paths found in FOLDER\n",
    "zip_paths = sorted(FOLDER.glob(\"gtfs_*.zip\"))\n",
    "print(\"Found:\", [p.name for p in zip_paths])\n",
    "assert zip_paths, f\"No GTFS zips found in {FOLDER}/gtfs_*.zip\"\n"
   ]
  },
  {
   "cell_type": "code",
   "execution_count": null,
   "id": "008bec16",
   "metadata": {},
   "outputs": [],
   "source": [
    "# Set the pattern of the zipped filenames\n",
    "ZIP_PATTERN = \"gtfs_*.zip\"\n",
    "REQUIRED_FILES = [\"shapes.txt\", \"stops.txt\", \"routes.txt\", \"trips.txt\"]\n",
    "buckets = {k: [] for k in REQUIRED_FILES}\n",
    "\n",
    "zips = sorted(glob.glob(os.path.join(FOLDER, ZIP_PATTERN)))\n",
    "assert zips, f\"No GTFS zips found in {FOLDER}/{ZIP_PATTERN}\"\n",
    "\n",
    "for zp in zips:\n",
    "    feed_name = os.path.splitext(os.path.basename(zp))[0]  # e.g., 'gtfs_m'\n",
    "    with zipfile.ZipFile(zp) as z:\n",
    "        names = set(z.namelist())\n",
    "        for fn in REQUIRED_FILES:\n",
    "            if fn in names:\n",
    "                df = pd.read_csv(z.open(fn), dtype=str, low_memory=False)\n",
    "                df[\"borough_feed\"] = feed_name\n",
    "                buckets[fn].append(df)\n",
    "            else:\n",
    "                print(f\"[WARN] {fn} missing in {feed_name}\")\n"
   ]
  },
  {
   "cell_type": "code",
   "execution_count": null,
   "id": "a1d7abc6",
   "metadata": {},
   "outputs": [],
   "source": [
    "# concat and normalize dtypes\n",
    "shapes = pd.concat(buckets[\"shapes.txt\"], ignore_index=True)\n",
    "stops  = pd.concat(buckets[\"stops.txt\"],  ignore_index=True)\n",
    "routes = pd.concat(buckets[\"routes.txt\"], ignore_index=True)\n",
    "trips  = pd.concat(buckets[\"trips.txt\"],  ignore_index=True)\n"
   ]
  },
  {
   "cell_type": "code",
   "execution_count": null,
   "id": "5ea33f5d",
   "metadata": {},
   "outputs": [],
   "source": [
    "# cast numeric columns\n",
    "for col in [\"shape_pt_lat\", \"shape_pt_lon\"]:\n",
    "    shapes[col] = shapes[col].astype(float)\n",
    "shapes[\"shape_pt_sequence\"] = shapes[\"shape_pt_sequence\"].astype(int)\n",
    "\n",
    "stops[\"stop_lat\"] = stops[\"stop_lat\"].astype(float)\n",
    "stops[\"stop_lon\"] = stops[\"stop_lon\"].astype(float)\n"
   ]
  },
  {
   "cell_type": "code",
   "execution_count": null,
   "id": "8aa82535",
   "metadata": {},
   "outputs": [],
   "source": [
    "# make a collision-proof shape key (shape_id can repeat across feeds)\n",
    "shapes[\"shape_uid\"] = shapes[\"borough_feed\"] + \"_\" + shapes[\"shape_id\"]"
   ]
  },
  {
   "cell_type": "code",
   "execution_count": null,
   "id": "d019d8d5",
   "metadata": {},
   "outputs": [],
   "source": [
    "# Mapping for shapes and route labels (short/long name)\n",
    "# Merge trips to routes\n",
    "shape2route = (\n",
    "    trips[[\"route_id\", \"shape_id\", \"borough_feed\"]].dropna()\n",
    "    .drop_duplicates([\"shape_id\", \"borough_feed\"])\n",
    "    .merge(\n",
    "        routes[[\"route_id\", \"route_short_name\", \"route_long_name\", \"route_color\", \"borough_feed\"]],\n",
    "        on=[\"route_id\", \"borough_feed\"], how=\"left\"\n",
    "    )\n",
    ")\n",
    "shape2route[\"shape_uid\"] = shape2route[\"borough_feed\"] + \"_\" + shape2route[\"shape_id\"]\n"
   ]
  },
  {
   "cell_type": "code",
   "execution_count": null,
   "id": "1f3dff6e",
   "metadata": {},
   "outputs": [],
   "source": [
    "# build LineStrings per shapes (shape_uid)\n",
    "shapes_sorted = shapes.sort_values([\"shape_uid\", \"shape_pt_sequence\"])\n",
    "lines = (\n",
    "    shapes_sorted\n",
    "      .groupby(\"shape_uid\")[[\"shape_pt_lon\", \"shape_pt_lat\"]]\n",
    "      .apply(lambda df: LineString(df.to_numpy()))\n",
    "      .to_frame(\"geometry\")\n",
    "      .reset_index()\n",
    ")\n",
    "\n"
   ]
  },
  {
   "cell_type": "code",
   "execution_count": null,
   "id": "77523fa6",
   "metadata": {},
   "outputs": [],
   "source": [
    "# Merge shapes with routes geodataframe \n",
    "routes_gdf = gpd.GeoDataFrame(lines, geometry=\"geometry\", crs=\"EPSG:4326\")\n",
    "routes_gdf = (\n",
    "    routes_gdf\n",
    "    .merge(\n",
    "        shape2route[[\"shape_uid\", \"route_id\", \"route_short_name\", \"route_long_name\", \"route_color\", \"borough_feed\"]],\n",
    "        on=\"shape_uid\", how=\"left\"\n",
    "    )\n",
    ")\n"
   ]
  },
  {
   "cell_type": "code",
   "execution_count": null,
   "id": "cde4d2f6",
   "metadata": {},
   "outputs": [],
   "source": [
    "# filter for few specific routes if needed (specially If the map feels slow)\n",
    "CUNY_buses = [\"M15\", \"M98\", \"M101\", \"M103\", \"BX10\", \"BX28\", \"BX22\", \"BX25\", \"B11\", \"B41\", \"B49\", \"B103\", \"S93\", \"S61\", \"S94\", \"S59\", \"Q25\",\"Q34\",\"Q17\",\"Q44+\", \"SIM7\", \"M20\", \"M9\", \"M22\", \"B1\", \"B49\"]\n",
    "routes_gdf = routes_gdf[routes_gdf[\"route_id\"].isin(CUNY_buses)]\n",
    "\n",
    "# Get stops GeoDataFrame (keep borough_feed to avoid ID ambiguity)\n",
    "stops_gdf = gpd.GeoDataFrame(\n",
    "    stops[[\"stop_id\", \"stop_name\", \"stop_lat\", \"stop_lon\", \"borough_feed\"]],\n",
    "    geometry=gpd.points_from_xy(stops[\"stop_lon\"], stops[\"stop_lat\"]),\n",
    "    crs=\"EPSG:4326\"\n",
    ")\n"
   ]
  },
  {
   "cell_type": "code",
   "execution_count": null,
   "id": "95ec71d2",
   "metadata": {},
   "outputs": [],
   "source": [
    "# Create base folium map\n",
    "\n",
    "m = folium.Map(tiles=\"cartodbpositron\", zoom_start=11, prefer_canvas=True)\n",
    "\n",
    "folium.TileLayer(\"cartodbpositron\", overlay=True).add_to(m)\n",
    "\n",
    "\n"
   ]
  },
  {
   "cell_type": "code",
   "execution_count": null,
   "id": "7acaff5e",
   "metadata": {},
   "outputs": [],
   "source": [
    "# Fit to route bounds\n",
    "minx, miny, maxx, maxy = routes_gdf.total_bounds\n",
    "m.fit_bounds([[miny, minx], [maxy, maxx]])\n",
    "\n"
   ]
  },
  {
   "cell_type": "code",
   "execution_count": null,
   "id": "ff1fa6cd",
   "metadata": {},
   "outputs": [],
   "source": [
    "\n",
    "# Create explicit panes so stops are ABOVE routes\n",
    "folium.map.CustomPane(\"routes\", z_index=400).add_to(m)\n",
    "# folium.map.CustomPane(\"stops\",  z_index=650).add_to(m)\n"
   ]
  },
  {
   "cell_type": "code",
   "execution_count": null,
   "id": "cbb8c562",
   "metadata": {},
   "outputs": [],
   "source": [
    "# draw each shape (LineString) as a polyline\n",
    "def line_to_latlon_coords(geom):\n",
    "    # geom is a shapely LineString or MultiLineString\n",
    "    if geom.geom_type == \"LineString\":\n",
    "        return [(lat, lon) for lon, lat in geom.coords]\n",
    "    elif geom.geom_type == \"MultiLineString\":\n",
    "        coords = []\n",
    "        for part in geom.geoms:\n",
    "            coords.extend([(lat, lon) for lon, lat in part.coords])\n",
    "        return coords\n",
    "    else:\n",
    "        return []\n"
   ]
  },
  {
   "cell_type": "code",
   "execution_count": null,
   "id": "de250e2d",
   "metadata": {},
   "outputs": [],
   "source": [
    "# color by route (simple cycle)\n",
    "# Challenge: Use route_color from routes_gdf\n",
    "palette = [\n",
    "    \"red\",\"blue\",\"green\",\"purple\",\"orange\",\"darkred\",\"lightred\",\"mediumgreen\",\n",
    "    \"darkblue\",\"darkgreen\",\"cadetblue\",\"darkpurple\",\"brown\",\"pink\",\"lightblue\",\n",
    "    \"lightgreen\",\"gray\",\"navy\",\"lightgray\", \"maroon\", \"mediumyellow\"\n",
    "]\n",
    "color_map = {\n",
    "  \"M15\": \"purple\",\n",
    "  \"M98\": \"purple\",\n",
    "  \"M101\": \"purple\",\n",
    "  \"M103\": \"purple\",\n",
    "  \"BX10\": \"gold\",\n",
    "  \"BX28\": \"gold\",\n",
    "  \"BX22\": \"gold\",\n",
    "  \"BX25\": \"gold\",\n",
    "  \"B11\": \"maroon\",\n",
    "  \"B41\": \"maroon\",\n",
    "  \"B49\": \"maroon\",\n",
    "  \"B103\": \"maroon\",\n",
    "  \"S93\": \"lightblue\",\n",
    "  \"S61\": \"lightblue\",\n",
    "  \"S94\": \"lightblue\",\n",
    "  \"S59\": \"lightblue\",\n",
    "  \"Q25\": \"red\",\n",
    "  \"Q34\": \"red\",\n",
    "  \"Q17\": \"red\",\n",
    "  \"Q44+\": \"red\",\n",
    "  \"SIM7\": \"orange\",\n",
    "  \"M20\": \"orange\",\n",
    "  \"M9\": \"orange\",\n",
    "  \"M22\": \"orange\",\n",
    "  \"B1\": \"blue\"\n",
    "}\n"
   ]
  },
  {
   "cell_type": "code",
   "execution_count": null,
   "id": "5224329c",
   "metadata": {},
   "outputs": [],
   "source": [
    "# list of ace routes until i get wifi lol\n",
    "ace_routes = pd.read_csv('MTA_Bus_Automated_Camera_Enforced_Routes__Beginning_October_2019_20250921.csv', dtype={\"Route\":str, \"Program\":str})\n",
    "ace_routes = ace_routes[ace_routes['Program'] == 'ACE']\n",
    "ace_routes = ace_routes['Route'].unique()\n",
    "\n",
    "nrml_route = folium.FeatureGroup(name=\"Normal Routes\")\n",
    "ace_route = folium.FeatureGroup(name=\"ACE Routes\")"
   ]
  },
  {
   "cell_type": "code",
   "execution_count": null,
   "id": "acea7feb",
   "metadata": {},
   "outputs": [],
   "source": [
    "# Tooltip fields if present\n",
    "tooltip_fields = [f for f in [\"route_id\",\"route_long_name\"] if f in routes_gdf.columns]\n",
    "\n",
    "for i, row in routes_gdf.iterrows():\n",
    "    route = row.get(\"route_id\") or row.get(\"route_short_name\") or \"route\"\n",
    "    \n",
    "    coords = line_to_latlon_coords(row.geometry)\n",
    "    if coords and route in ace_routes:\n",
    "        folium.PolyLine(\n",
    "            locations=coords,\n",
    "            color=color_map[route],\n",
    "            weight=2,\n",
    "            opacity=.5,\n",
    "            tooltip=f\"ACE Route ID: {route}\",\n",
    "        ).add_to(ace_route)\n",
    "    elif coords:\n",
    "        folium.PolyLine(\n",
    "            locations=coords,\n",
    "            color=color_map[route],\n",
    "            weight=2,\n",
    "            opacity=0.9,\n",
    "            tooltip=f\"Route ID: {route}\",\n",
    "        ).add_to(nrml_route)\n",
    "\n",
    "ace_route.add_to(m)\n",
    "nrml_route.add_to(m)"
   ]
  },
  {
   "cell_type": "code",
   "execution_count": null,
   "id": "f40cba20",
   "metadata": {},
   "outputs": [],
   "source": [
    "# Hunter\n",
    "folium.Marker(\n",
    "    location=[40.7678, -73.9645],\n",
    "   #  tooltip=\"Click me!\",\n",
    "    popup=\"Hunter College\",\n",
    "    icon=folium.Icon(color=\"purple\"),\n",
    ").add_to(m)\n",
    "\n",
    "# Lehman\n",
    "folium.Marker(\n",
    "    location=[40.8729, -73.8945],\n",
    "   #  tooltip=\"Click me!\",\n",
    "    popup=\"Lehman College\",\n",
    "    icon=folium.Icon(color=\"yellow\"),\n",
    ").add_to(m)\n",
    "\n",
    "# BMCC\n",
    "folium.Marker(\n",
    "    location=[40.7179, -74.0120],\n",
    "   #  tooltip=\"Click me!\",\n",
    "    popup=\"Borough of Manhattan Community College\",\n",
    "    icon=folium.Icon(color=\"orange\"),\n",
    ").add_to(m)\n",
    "\n",
    "#Brooklyn College\n",
    "folium.Marker(\n",
    "    location=[40.6309, -73.9515],\n",
    "   #  tooltip=\"Click me!\",\n",
    "    popup=\"Brooklyn College\",\n",
    "    icon=folium.Icon(color=\"maroon\"),\n",
    ").add_to(m)\n",
    "\n",
    "# Kingsborough Community College\n",
    "folium.Marker(\n",
    "    location=[40.5787, -73.9351],\n",
    "   #  tooltip=\"Click me!\",\n",
    "    popup=\"Kingsborough Community College\",\n",
    "    icon=folium.Icon(color=\"blue\"),\n",
    ").add_to(m)\n",
    "\n",
    "# Queens College\n",
    "folium.Marker(\n",
    "    location=[40.7367, -73.8203],\n",
    "   #  tooltip=\"Click me!\",\n",
    "    popup=\"Queens College\",\n",
    "    icon=folium.Icon(color=\"red\"),\n",
    ").add_to(m)\n",
    "\n",
    "# College of Staten Island\n",
    "folium.Marker(\n",
    "    location=[40.6022, -74.1504],\n",
    "   #  tooltip=\"Click me!\",\n",
    "    popup=\"College of Staten Island\",\n",
    "    icon=folium.Icon(color=\"lightblue\"),\n",
    ").add_to(m)"
   ]
  },
  {
   "cell_type": "code",
   "execution_count": null,
   "id": "2276b015",
   "metadata": {},
   "outputs": [],
   "source": []
  },
  {
   "cell_type": "code",
   "execution_count": null,
   "id": "2fdabefc",
   "metadata": {},
   "outputs": [],
   "source": [
    "ace_violation_ds = \"MTA_Bus_Automated_Camera_Enforcement_Violations__Beginning_October_2019_20250918.csv\"\n",
    "\n",
    "#georeference?\n",
    "\n",
    "# GET A SMALLER CSV FILE DAMN!!!!!\n",
    "violations = pd.read_csv(ace_violation_ds, dtype={'Vehicle ID': str, 'First Occurrence':str, \"Last Occurrence\": str, \"Violation Status\": str,           \n",
    "\"Violation Type\":str, 'Bus Route ID': str, 'Stop Name': str})\n",
    "\n",
    "\n",
    "# B11 = violations[violations['Bus Route ID'] == 'B11']\n",
    "\n",
    "violations.dropna(subset=['Bus Route ID'], inplace=True)\n",
    "violations = violations[violations['Bus Route ID'].isin(CUNY_buses)]"
   ]
  },
  {
   "cell_type": "code",
   "execution_count": null,
   "id": "6052bb0f",
   "metadata": {},
   "outputs": [],
   "source": [
    "violations['First Occurrence'] = pd.to_datetime(violations['First Occurrence'], format='%m/%d/%Y %I:%M:%S %p')\n",
    "violations['Last Occurrence'] = pd.to_datetime(violations['Last Occurrence'], format='%m/%d/%Y %I:%M:%S %p')"
   ]
  },
  {
   "cell_type": "code",
   "execution_count": null,
   "id": "02538d7e",
   "metadata": {},
   "outputs": [],
   "source": [
    "# start_date = \"2025-08-06\"\n",
    "# end_date = \"2025-08-20\"\n",
    "\n",
    "# violations = violations[(violations['First Occurrence'] >= start_date) & (violations['First Occurrence'] <= end_date)]\n"
   ]
  },
  {
   "cell_type": "code",
   "execution_count": null,
   "id": "7be4c466",
   "metadata": {},
   "outputs": [],
   "source": []
  },
  {
   "cell_type": "code",
   "execution_count": null,
   "id": "e4c3412e",
   "metadata": {},
   "outputs": [],
   "source": [
    "# get different violation types\n",
    "# make a heatmap\n",
    "\n",
    "violations.head(9)"
   ]
  },
  {
   "cell_type": "code",
   "execution_count": null,
   "id": "dc062229",
   "metadata": {},
   "outputs": [],
   "source": [
    "violation_type = violations[\"Violation Type\"].unique()\n",
    "\n",
    "print(violation_type)"
   ]
  },
  {
   "cell_type": "code",
   "execution_count": null,
   "id": "c73c54c8",
   "metadata": {},
   "outputs": [],
   "source": [
    "violation_status = violations[\"Violation Status\"].unique()\n",
    "\n",
    "print(violation_status)"
   ]
  },
  {
   "cell_type": "code",
   "execution_count": null,
   "id": "fef60ca0",
   "metadata": {},
   "outputs": [],
   "source": [
    "rows, columns = violations.shape\n",
    "print(f\"Rows: {rows}, Columns: {columns}\")"
   ]
  },
  {
   "cell_type": "code",
   "execution_count": null,
   "id": "053670b9",
   "metadata": {},
   "outputs": [],
   "source": [
    "# ['MOBILE BUS STOP' 'MOBILE BUS LANE' 'MOBILE DOUBLE PARKED']\n",
    "emergency = violations[violations[\"Violation Status\"] == 'EXEMPT - EMERGENCY VEHICLE']\n",
    "bus_para = violations[violations[\"Violation Status\"] == 'EXEMPT - BUS/PARATRANSIT']\n",
    "commercial = violations[violations[\"Violation Status\"] == 'EXEMPT - COMMERCIAL UNDER 20'] \n",
    "other = violations[violations[\"Violation Status\"] == 'EXEMPT - OTHER'] \n",
    "\n",
    "emergency.head(9)\n",
    "\n",
    "\n",
    "# double_parked = violations[violations[\"Violation Status\"] == 'TECHNICAL ISSUE/OTHER']\n",
    "# double_parked = violations[violations[\"Violation Status\"] == 'DRIVER/VEHICLE INFO MISSING'] \n",
    "# double_parked = violations[violations[\"Violation Status\"] == 'EXEMPT - COMMERCIAL UNDER 20']  \n",
    "# double_parked = violations[violations[\"Violation Status\"] == 'VIOLATION ISSUED']  "
   ]
  },
  {
   "cell_type": "code",
   "execution_count": null,
   "id": "62f82dd0",
   "metadata": {},
   "outputs": [],
   "source": [
    "# Hunter\n",
    "folium.Marker(\n",
    "    location=[40.7678, -73.9645],\n",
    "   #  tooltip=\"Click me!\",\n",
    "    popup=\"Hunter College\",\n",
    "    icon=folium.Icon(color=\"purple\"),\n",
    ").add_to(m)\n",
    "\n",
    "# Lehman\n",
    "folium.Marker(\n",
    "    location=[40.8729, -73.8945],\n",
    "   #  tooltip=\"Click me!\",\n",
    "    popup=\"Lehman College\",\n",
    "    icon=folium.Icon(color=\"yellow\"),\n",
    ").add_to(m)\n",
    "\n",
    "# BMCC\n",
    "folium.Marker(\n",
    "    location=[40.7179, -74.0120],\n",
    "   #  tooltip=\"Click me!\",\n",
    "    popup=\"Borough of Manhattan Community College\",\n",
    "    icon=folium.Icon(color=\"orange\"),\n",
    ").add_to(m)\n",
    "\n",
    "#Brooklyn College\n",
    "folium.Marker(\n",
    "    location=[40.6309, -73.9515],\n",
    "   #  tooltip=\"Click me!\",\n",
    "    popup=\"Brooklyn College\",\n",
    "    icon=folium.Icon(color=\"maroon\"),\n",
    ").add_to(m)\n",
    "\n",
    "# Kingsborough Community College\n",
    "folium.Marker(\n",
    "    location=[40.5787, -73.9351],\n",
    "   #  tooltip=\"Click me!\",\n",
    "    popup=\"Kingsborough Community College\",\n",
    "    icon=folium.Icon(color=\"blue\"),\n",
    ").add_to(m)\n",
    "\n",
    "# Queens College\n",
    "folium.Marker(\n",
    "    location=[40.7367, -73.8203],\n",
    "   #  tooltip=\"Click me!\",\n",
    "    popup=\"Queens College\",\n",
    "    icon=folium.Icon(color=\"red\"),\n",
    ").add_to(m)\n",
    "\n",
    "# College of Staten Island\n",
    "folium.Marker(\n",
    "    location=[40.6022, -74.1504],\n",
    "   #  tooltip=\"Click me!\",\n",
    "    popup=\"College of Staten Island\",\n",
    "    icon=folium.Icon(color=\"lightblue\"),\n",
    ").add_to(m)"
   ]
  },
  {
   "cell_type": "code",
   "execution_count": null,
   "id": "3e93d5e4",
   "metadata": {},
   "outputs": [],
   "source": [
    "from folium.plugins import HeatMap\n",
    "\n",
    "heat_data = [[row['Violation Latitude'], row['Violation Longitude']] for index, row in emergency.iterrows()]\n",
    "\n",
    "HeatMap(heat_data, radius=15, blur=15, max_val=10).add_to(folium.FeatureGroup(name='Emergency Exemption', show=False).add_to(m))"
   ]
  },
  {
   "cell_type": "code",
   "execution_count": null,
   "id": "68bc384f",
   "metadata": {},
   "outputs": [],
   "source": [
    "heat_data = [[row['Violation Latitude'], row['Violation Longitude']] for index, row in bus_para.iterrows()]\n",
    "\n",
    "HeatMap(heat_data, radius=15, blur=15, max_val=10).add_to(folium.FeatureGroup(name='Bus/Para Exemption', show=False).add_to(m))"
   ]
  },
  {
   "cell_type": "code",
   "execution_count": null,
   "id": "019f33a6",
   "metadata": {},
   "outputs": [],
   "source": [
    "heat_data = [[row['Violation Latitude'], row['Violation Longitude']] for index, row in other.iterrows()]\n",
    "\n",
    "HeatMap(heat_data, radius=15, blur=15, max_val=10).add_to(folium.FeatureGroup(name='Other Exemption', show=False).add_to(m))"
   ]
  },
  {
   "cell_type": "code",
   "execution_count": null,
   "id": "112d72c2",
   "metadata": {},
   "outputs": [],
   "source": [
    "heat_data = [[row['Violation Latitude'], row['Violation Longitude']] for index, row in commercial.iterrows()]\n",
    "\n",
    "HeatMap(heat_data, radius=15, blur=15, max_val=10).add_to(folium.FeatureGroup(name='Commercial Exemption', show=False).add_to(m))"
   ]
  },
  {
   "cell_type": "code",
   "execution_count": null,
   "id": "9857264d",
   "metadata": {},
   "outputs": [],
   "source": [
    "folium.LayerControl().add_to(m)"
   ]
  },
  {
   "cell_type": "code",
   "execution_count": null,
   "id": "6847dd65",
   "metadata": {},
   "outputs": [],
   "source": [
    "m"
   ]
  },
  {
   "cell_type": "code",
   "execution_count": null,
   "id": "7de69a7d",
   "metadata": {},
   "outputs": [],
   "source": [
    "print(violations['Violation Status'].value_counts())"
   ]
  }
 ],
 "metadata": {
  "kernelspec": {
   "display_name": "Python 3",
   "language": "python",
   "name": "python3"
  },
  "language_info": {
   "codemirror_mode": {
    "name": "ipython",
    "version": 3
   },
   "file_extension": ".py",
   "mimetype": "text/x-python",
   "name": "python",
   "nbconvert_exporter": "python",
   "pygments_lexer": "ipython3",
   "version": "3.13.1"
  }
 },
 "nbformat": 4,
 "nbformat_minor": 5
}
