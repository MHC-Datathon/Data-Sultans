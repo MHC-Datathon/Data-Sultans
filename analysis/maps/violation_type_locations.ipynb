{
 "cells": [
  {
   "cell_type": "code",
   "execution_count": 595,
   "id": "91fb87d3",
   "metadata": {},
   "outputs": [
    {
     "name": "stdout",
     "output_type": "stream",
     "text": [
      "Requirement already satisfied: geopandas in c:\\users\\maida\\appdata\\local\\programs\\python\\python313\\lib\\site-packages (1.1.1)\n",
      "Requirement already satisfied: numpy>=1.24 in c:\\users\\maida\\appdata\\local\\programs\\python\\python313\\lib\\site-packages (from geopandas) (2.3.3)\n",
      "Requirement already satisfied: pyogrio>=0.7.2 in c:\\users\\maida\\appdata\\local\\programs\\python\\python313\\lib\\site-packages (from geopandas) (0.11.1)\n",
      "Requirement already satisfied: packaging in c:\\users\\maida\\appdata\\roaming\\python\\python313\\site-packages (from geopandas) (25.0)\n",
      "Requirement already satisfied: pandas>=2.0.0 in c:\\users\\maida\\appdata\\local\\programs\\python\\python313\\lib\\site-packages (from geopandas) (2.3.2)\n",
      "Requirement already satisfied: pyproj>=3.5.0 in c:\\users\\maida\\appdata\\local\\programs\\python\\python313\\lib\\site-packages (from geopandas) (3.7.2)\n",
      "Requirement already satisfied: shapely>=2.0.0 in c:\\users\\maida\\appdata\\local\\programs\\python\\python313\\lib\\site-packages (from geopandas) (2.1.1)\n",
      "Requirement already satisfied: python-dateutil>=2.8.2 in c:\\users\\maida\\appdata\\roaming\\python\\python313\\site-packages (from pandas>=2.0.0->geopandas) (2.9.0.post0)\n",
      "Requirement already satisfied: pytz>=2020.1 in c:\\users\\maida\\appdata\\local\\programs\\python\\python313\\lib\\site-packages (from pandas>=2.0.0->geopandas) (2025.2)\n",
      "Requirement already satisfied: tzdata>=2022.7 in c:\\users\\maida\\appdata\\local\\programs\\python\\python313\\lib\\site-packages (from pandas>=2.0.0->geopandas) (2025.2)\n",
      "Requirement already satisfied: certifi in c:\\users\\maida\\appdata\\local\\programs\\python\\python313\\lib\\site-packages (from pyogrio>=0.7.2->geopandas) (2025.8.3)\n",
      "Requirement already satisfied: six>=1.5 in c:\\users\\maida\\appdata\\roaming\\python\\python313\\site-packages (from python-dateutil>=2.8.2->pandas>=2.0.0->geopandas) (1.17.0)\n",
      "Note: you may need to restart the kernel to use updated packages.\n"
     ]
    },
    {
     "name": "stderr",
     "output_type": "stream",
     "text": [
      "\n",
      "[notice] A new release of pip is available: 24.3.1 -> 25.2\n",
      "[notice] To update, run: python.exe -m pip install --upgrade pip\n"
     ]
    }
   ],
   "source": [
    "%pip install geopandas"
   ]
  },
  {
   "cell_type": "code",
   "execution_count": 596,
   "id": "d0cceb22",
   "metadata": {},
   "outputs": [],
   "source": [
    "import os, glob, io, zipfile, webbrowser\n",
    "import pandas as pd\n",
    "import geopandas as gpd\n",
    "from shapely.geometry import LineString, Point\n",
    "from pathlib import Path\n",
    "import folium\n",
    "from folium.plugins import MarkerCluster"
   ]
  },
  {
   "cell_type": "code",
   "execution_count": 597,
   "id": "5bf9cf9e",
   "metadata": {},
   "outputs": [
    {
     "name": "stdout",
     "output_type": "stream",
     "text": [
      "FOLDER exists? True\n"
     ]
    }
   ],
   "source": [
    "FOLDER = Path(\"./bus_gtfs\")  # or change to another working path\n",
    "print(\"FOLDER exists?\", FOLDER.exists())"
   ]
  },
  {
   "cell_type": "code",
   "execution_count": 598,
   "id": "c4728c42",
   "metadata": {},
   "outputs": [
    {
     "name": "stdout",
     "output_type": "stream",
     "text": [
      "Found: ['gtfs_b.zip', 'gtfs_busco.zip', 'gtfs_bx.zip', 'gtfs_m.zip', 'gtfs_q.zip', 'gtfs_si.zip']\n"
     ]
    }
   ],
   "source": [
    "### Verify the paths found in FOLDER\n",
    "zip_paths = sorted(FOLDER.glob(\"gtfs_*.zip\"))\n",
    "print(\"Found:\", [p.name for p in zip_paths])\n",
    "assert zip_paths, f\"No GTFS zips found in {FOLDER}/gtfs_*.zip\"\n"
   ]
  },
  {
   "cell_type": "code",
   "execution_count": 599,
   "id": "008bec16",
   "metadata": {},
   "outputs": [],
   "source": [
    "# Set the pattern of the zipped filenames\n",
    "ZIP_PATTERN = \"gtfs_*.zip\"\n",
    "REQUIRED_FILES = [\"shapes.txt\", \"stops.txt\", \"routes.txt\", \"trips.txt\"]\n",
    "buckets = {k: [] for k in REQUIRED_FILES}\n",
    "\n",
    "zips = sorted(glob.glob(os.path.join(FOLDER, ZIP_PATTERN)))\n",
    "assert zips, f\"No GTFS zips found in {FOLDER}/{ZIP_PATTERN}\"\n",
    "\n",
    "for zp in zips:\n",
    "    feed_name = os.path.splitext(os.path.basename(zp))[0]  # e.g., 'gtfs_m'\n",
    "    with zipfile.ZipFile(zp) as z:\n",
    "        names = set(z.namelist())\n",
    "        for fn in REQUIRED_FILES:\n",
    "            if fn in names:\n",
    "                df = pd.read_csv(z.open(fn), dtype=str, low_memory=False)\n",
    "                df[\"borough_feed\"] = feed_name\n",
    "                buckets[fn].append(df)\n",
    "            else:\n",
    "                print(f\"[WARN] {fn} missing in {feed_name}\")\n"
   ]
  },
  {
   "cell_type": "code",
   "execution_count": 600,
   "id": "a1d7abc6",
   "metadata": {},
   "outputs": [],
   "source": [
    "# concat and normalize dtypes\n",
    "shapes = pd.concat(buckets[\"shapes.txt\"], ignore_index=True)\n",
    "stops  = pd.concat(buckets[\"stops.txt\"],  ignore_index=True)\n",
    "routes = pd.concat(buckets[\"routes.txt\"], ignore_index=True)\n",
    "trips  = pd.concat(buckets[\"trips.txt\"],  ignore_index=True)\n"
   ]
  },
  {
   "cell_type": "code",
   "execution_count": 601,
   "id": "5ea33f5d",
   "metadata": {},
   "outputs": [],
   "source": [
    "# cast numeric columns\n",
    "for col in [\"shape_pt_lat\", \"shape_pt_lon\"]:\n",
    "    shapes[col] = shapes[col].astype(float)\n",
    "shapes[\"shape_pt_sequence\"] = shapes[\"shape_pt_sequence\"].astype(int)\n",
    "\n",
    "stops[\"stop_lat\"] = stops[\"stop_lat\"].astype(float)\n",
    "stops[\"stop_lon\"] = stops[\"stop_lon\"].astype(float)\n"
   ]
  },
  {
   "cell_type": "code",
   "execution_count": 602,
   "id": "8aa82535",
   "metadata": {},
   "outputs": [],
   "source": [
    "# make a collision-proof shape key (shape_id can repeat across feeds)\n",
    "shapes[\"shape_uid\"] = shapes[\"borough_feed\"] + \"_\" + shapes[\"shape_id\"]"
   ]
  },
  {
   "cell_type": "code",
   "execution_count": 603,
   "id": "d019d8d5",
   "metadata": {},
   "outputs": [],
   "source": [
    "# Mapping for shapes and route labels (short/long name)\n",
    "# Merge trips to routes\n",
    "shape2route = (\n",
    "    trips[[\"route_id\", \"shape_id\", \"borough_feed\"]].dropna()\n",
    "    .drop_duplicates([\"shape_id\", \"borough_feed\"])\n",
    "    .merge(\n",
    "        routes[[\"route_id\", \"route_short_name\", \"route_long_name\", \"route_color\", \"borough_feed\"]],\n",
    "        on=[\"route_id\", \"borough_feed\"], how=\"left\"\n",
    "    )\n",
    ")\n",
    "shape2route[\"shape_uid\"] = shape2route[\"borough_feed\"] + \"_\" + shape2route[\"shape_id\"]\n"
   ]
  },
  {
   "cell_type": "code",
   "execution_count": 604,
   "id": "1f3dff6e",
   "metadata": {},
   "outputs": [],
   "source": [
    "# build LineStrings per shapes (shape_uid)\n",
    "shapes_sorted = shapes.sort_values([\"shape_uid\", \"shape_pt_sequence\"])\n",
    "lines = (\n",
    "    shapes_sorted\n",
    "      .groupby(\"shape_uid\")[[\"shape_pt_lon\", \"shape_pt_lat\"]]\n",
    "      .apply(lambda df: LineString(df.to_numpy()))\n",
    "      .to_frame(\"geometry\")\n",
    "      .reset_index()\n",
    ")\n",
    "\n"
   ]
  },
  {
   "cell_type": "code",
   "execution_count": 605,
   "id": "77523fa6",
   "metadata": {},
   "outputs": [],
   "source": [
    "# Merge shapes with routes geodataframe \n",
    "routes_gdf = gpd.GeoDataFrame(lines, geometry=\"geometry\", crs=\"EPSG:4326\")\n",
    "routes_gdf = (\n",
    "    routes_gdf\n",
    "    .merge(\n",
    "        shape2route[[\"shape_uid\", \"route_id\", \"route_short_name\", \"route_long_name\", \"route_color\", \"borough_feed\"]],\n",
    "        on=\"shape_uid\", how=\"left\"\n",
    "    )\n",
    ")\n"
   ]
  },
  {
   "cell_type": "code",
   "execution_count": 606,
   "id": "cde4d2f6",
   "metadata": {},
   "outputs": [],
   "source": [
    "# filter for few specific routes if needed (specially If the map feels slow)\n",
    "CUNY_buses = [\"M15\", \"M98\", \"M101\", \"M103\", \"BX10\", \"BX28\", \"BX22\", \"BX25\", \"B11\", \"B41\", \"B49\", \"B103\", \"S93\", \"S61\", \"S94\", \"S59\", \"Q25\",\"Q34\",\"Q17\",\"Q44+\", \"SIM7\", \"M20\", \"M9\", \"M22\", \"B1\", \"B49\"]\n",
    "routes_gdf = routes_gdf[routes_gdf[\"route_id\"].isin(CUNY_buses)]\n",
    "\n",
    "# Get stops GeoDataFrame (keep borough_feed to avoid ID ambiguity)\n",
    "stops_gdf = gpd.GeoDataFrame(\n",
    "    stops[[\"stop_id\", \"stop_name\", \"stop_lat\", \"stop_lon\", \"borough_feed\"]],\n",
    "    geometry=gpd.points_from_xy(stops[\"stop_lon\"], stops[\"stop_lat\"]),\n",
    "    crs=\"EPSG:4326\"\n",
    ")\n"
   ]
  },
  {
   "cell_type": "code",
   "execution_count": 607,
   "id": "95ec71d2",
   "metadata": {},
   "outputs": [
    {
     "data": {
      "text/plain": [
       "<folium.raster_layers.TileLayer at 0x1aa1a12b890>"
      ]
     },
     "execution_count": 607,
     "metadata": {},
     "output_type": "execute_result"
    }
   ],
   "source": [
    "# Create base folium map\n",
    "\n",
    "m = folium.Map(tiles=\"cartodbpositron\", zoom_start=11, prefer_canvas=True)\n",
    "\n",
    "folium.TileLayer(\"cartodbpositron\", overlay=True).add_to(m)\n",
    "\n",
    "\n"
   ]
  },
  {
   "cell_type": "code",
   "execution_count": 608,
   "id": "7acaff5e",
   "metadata": {},
   "outputs": [],
   "source": [
    "# Fit to route bounds\n",
    "minx, miny, maxx, maxy = routes_gdf.total_bounds\n",
    "m.fit_bounds([[miny, minx], [maxy, maxx]])\n",
    "\n"
   ]
  },
  {
   "cell_type": "code",
   "execution_count": 609,
   "id": "ff1fa6cd",
   "metadata": {},
   "outputs": [
    {
     "data": {
      "text/plain": [
       "<folium.map.CustomPane at 0x1aa0ce95950>"
      ]
     },
     "execution_count": 609,
     "metadata": {},
     "output_type": "execute_result"
    }
   ],
   "source": [
    "\n",
    "# Create explicit panes so stops are ABOVE routes\n",
    "folium.map.CustomPane(\"routes\", z_index=400).add_to(m)\n",
    "# folium.map.CustomPane(\"stops\",  z_index=650).add_to(m)\n"
   ]
  },
  {
   "cell_type": "code",
   "execution_count": 610,
   "id": "cbb8c562",
   "metadata": {},
   "outputs": [],
   "source": [
    "# draw each shape (LineString) as a polyline\n",
    "def line_to_latlon_coords(geom):\n",
    "    # geom is a shapely LineString or MultiLineString\n",
    "    if geom.geom_type == \"LineString\":\n",
    "        return [(lat, lon) for lon, lat in geom.coords]\n",
    "    elif geom.geom_type == \"MultiLineString\":\n",
    "        coords = []\n",
    "        for part in geom.geoms:\n",
    "            coords.extend([(lat, lon) for lon, lat in part.coords])\n",
    "        return coords\n",
    "    else:\n",
    "        return []\n"
   ]
  },
  {
   "cell_type": "code",
   "execution_count": 611,
   "id": "de250e2d",
   "metadata": {},
   "outputs": [],
   "source": [
    "# color by route (simple cycle)\n",
    "# Challenge: Use route_color from routes_gdf\n",
    "palette = [\n",
    "    \"red\",\"blue\",\"green\",\"purple\",\"orange\",\"darkred\",\"lightred\",\"mediumgreen\",\n",
    "    \"darkblue\",\"darkgreen\",\"cadetblue\",\"darkpurple\",\"brown\",\"pink\",\"lightblue\",\n",
    "    \"lightgreen\",\"gray\",\"navy\",\"lightgray\", \"maroon\", \"mediumyellow\"\n",
    "]\n",
    "color_map = {\n",
    "  \"M15\": \"purple\",\n",
    "  \"M98\": \"purple\",\n",
    "  \"M101\": \"purple\",\n",
    "  \"M103\": \"purple\",\n",
    "  \"BX10\": \"gold\",\n",
    "  \"BX28\": \"gold\",\n",
    "  \"BX22\": \"gold\",\n",
    "  \"BX25\": \"gold\",\n",
    "  \"B11\": \"maroon\",\n",
    "  \"B41\": \"maroon\",\n",
    "  \"B49\": \"maroon\",\n",
    "  \"B103\": \"maroon\",\n",
    "  \"S93\": \"lightblue\",\n",
    "  \"S61\": \"lightblue\",\n",
    "  \"S94\": \"lightblue\",\n",
    "  \"S59\": \"lightblue\",\n",
    "  \"Q25\": \"red\",\n",
    "  \"Q34\": \"red\",\n",
    "  \"Q17\": \"red\",\n",
    "  \"Q44+\": \"red\",\n",
    "  \"SIM7\": \"orange\",\n",
    "  \"M20\": \"orange\",\n",
    "  \"M9\": \"orange\",\n",
    "  \"M22\": \"orange\",\n",
    "  \"B1\": \"blue\"\n",
    "}\n"
   ]
  },
  {
   "cell_type": "code",
   "execution_count": 612,
   "id": "5224329c",
   "metadata": {},
   "outputs": [],
   "source": [
    "# list of ace routes until i get wifi lol\n",
    "ace_routes = set([\"BX28\", \"B41\",  \"M101\", \"M15\"])\n",
    "\n",
    "nrml_route = folium.FeatureGroup(name=\"Normal Routes\")\n",
    "ace_route = folium.FeatureGroup(name=\"ACE Routes\")"
   ]
  },
  {
   "cell_type": "code",
   "execution_count": 613,
   "id": "acea7feb",
   "metadata": {},
   "outputs": [
    {
     "data": {
      "text/plain": [
       "<folium.map.FeatureGroup at 0x1aa1a12bdd0>"
      ]
     },
     "execution_count": 613,
     "metadata": {},
     "output_type": "execute_result"
    }
   ],
   "source": [
    "# Tooltip fields if present\n",
    "tooltip_fields = [f for f in [\"route_id\",\"route_long_name\"] if f in routes_gdf.columns]\n",
    "\n",
    "for i, row in routes_gdf.iterrows():\n",
    "    route = row.get(\"route_id\") or row.get(\"route_short_name\") or \"route\"\n",
    "    \n",
    "    coords = line_to_latlon_coords(row.geometry)\n",
    "    if coords and route in ace_routes:\n",
    "        folium.PolyLine(\n",
    "            locations=coords,\n",
    "            color=color_map[route],\n",
    "            weight=2,\n",
    "            opacity=.5,\n",
    "            tooltip=f\"ACE Route ID: {route}\",\n",
    "        ).add_to(ace_route)\n",
    "    elif coords:\n",
    "        folium.PolyLine(\n",
    "            locations=coords,\n",
    "            color=color_map[route],\n",
    "            weight=2,\n",
    "            opacity=0.9,\n",
    "            tooltip=f\"Route ID: {route}\",\n",
    "        ).add_to(nrml_route)\n",
    "\n",
    "ace_route.add_to(m)\n",
    "nrml_route.add_to(m)"
   ]
  },
  {
   "cell_type": "code",
   "execution_count": 614,
   "id": "f40cba20",
   "metadata": {},
   "outputs": [
    {
     "name": "stderr",
     "output_type": "stream",
     "text": [
      "C:\\Users\\maida\\AppData\\Local\\Temp\\ipykernel_10976\\4080562348.py:14: UserWarning: color argument of Icon should be one of: {'lightred', 'lightgreen', 'green', 'orange', 'lightblue', 'darkred', 'red', 'cadetblue', 'lightgray', 'gray', 'purple', 'darkgreen', 'beige', 'darkblue', 'blue', 'black', 'darkpurple', 'white', 'pink'}.\n",
      "  icon=folium.Icon(color=\"yellow\"),\n",
      "C:\\Users\\maida\\AppData\\Local\\Temp\\ipykernel_10976\\4080562348.py:30: UserWarning: color argument of Icon should be one of: {'lightred', 'lightgreen', 'green', 'orange', 'lightblue', 'darkred', 'red', 'cadetblue', 'lightgray', 'gray', 'purple', 'darkgreen', 'beige', 'darkblue', 'blue', 'black', 'darkpurple', 'white', 'pink'}.\n",
      "  icon=folium.Icon(color=\"maroon\"),\n"
     ]
    },
    {
     "data": {
      "text/plain": [
       "<folium.map.Marker at 0x1aa0ce95f90>"
      ]
     },
     "execution_count": 614,
     "metadata": {},
     "output_type": "execute_result"
    }
   ],
   "source": [
    "# Hunter\n",
    "folium.Marker(\n",
    "    location=[40.7678, -73.9645],\n",
    "   #  tooltip=\"Click me!\",\n",
    "    popup=\"Hunter College\",\n",
    "    icon=folium.Icon(color=\"purple\"),\n",
    ").add_to(m)\n",
    "\n",
    "# Lehman\n",
    "folium.Marker(\n",
    "    location=[40.8729, -73.8945],\n",
    "   #  tooltip=\"Click me!\",\n",
    "    popup=\"Lehman College\",\n",
    "    icon=folium.Icon(color=\"yellow\"),\n",
    ").add_to(m)\n",
    "\n",
    "# BMCC\n",
    "folium.Marker(\n",
    "    location=[40.7179, -74.0120],\n",
    "   #  tooltip=\"Click me!\",\n",
    "    popup=\"Borough of Manhattan Community College\",\n",
    "    icon=folium.Icon(color=\"orange\"),\n",
    ").add_to(m)\n",
    "\n",
    "#Brooklyn College\n",
    "folium.Marker(\n",
    "    location=[40.6309, -73.9515],\n",
    "   #  tooltip=\"Click me!\",\n",
    "    popup=\"Brooklyn College\",\n",
    "    icon=folium.Icon(color=\"maroon\"),\n",
    ").add_to(m)\n",
    "\n",
    "# Kingsborough Community College\n",
    "folium.Marker(\n",
    "    location=[40.5787, -73.9351],\n",
    "   #  tooltip=\"Click me!\",\n",
    "    popup=\"Kingsborough Community College\",\n",
    "    icon=folium.Icon(color=\"blue\"),\n",
    ").add_to(m)\n",
    "\n",
    "# Queens College\n",
    "folium.Marker(\n",
    "    location=[40.7367, -73.8203],\n",
    "   #  tooltip=\"Click me!\",\n",
    "    popup=\"Queens College\",\n",
    "    icon=folium.Icon(color=\"red\"),\n",
    ").add_to(m)\n",
    "\n",
    "# College of Staten Island\n",
    "folium.Marker(\n",
    "    location=[40.6022, -74.1504],\n",
    "   #  tooltip=\"Click me!\",\n",
    "    popup=\"College of Staten Island\",\n",
    "    icon=folium.Icon(color=\"lightblue\"),\n",
    ").add_to(m)"
   ]
  },
  {
   "cell_type": "code",
   "execution_count": null,
   "id": "2fdabefc",
   "metadata": {},
   "outputs": [
    {
     "data": {
      "text/html": [
       "<div>\n",
       "<style scoped>\n",
       "    .dataframe tbody tr th:only-of-type {\n",
       "        vertical-align: middle;\n",
       "    }\n",
       "\n",
       "    .dataframe tbody tr th {\n",
       "        vertical-align: top;\n",
       "    }\n",
       "\n",
       "    .dataframe thead th {\n",
       "        text-align: right;\n",
       "    }\n",
       "</style>\n",
       "<table border=\"1\" class=\"dataframe\">\n",
       "  <thead>\n",
       "    <tr style=\"text-align: right;\">\n",
       "      <th></th>\n",
       "      <th>Violation ID</th>\n",
       "      <th>Vehicle ID</th>\n",
       "      <th>First Occurrence</th>\n",
       "      <th>Last Occurrence</th>\n",
       "      <th>Violation Status</th>\n",
       "      <th>Violation Type</th>\n",
       "      <th>Bus Route ID</th>\n",
       "      <th>Violation Latitude</th>\n",
       "      <th>Violation Longitude</th>\n",
       "      <th>Stop ID</th>\n",
       "      <th>Stop Name</th>\n",
       "      <th>Bus Stop Latitude</th>\n",
       "      <th>Bus Stop Longitude</th>\n",
       "      <th>Violation Georeference</th>\n",
       "      <th>Bus Stop Georeference</th>\n",
       "    </tr>\n",
       "  </thead>\n",
       "  <tbody>\n",
       "    <tr>\n",
       "      <th>3502547</th>\n",
       "      <td>320280727</td>\n",
       "      <td>d0ea36bdbe16a5f585ca7c429f52e5ed25a243d9e2dd76...</td>\n",
       "      <td>05/28/2022 02:05:24 PM</td>\n",
       "      <td>05/28/2022 02:12:05 PM</td>\n",
       "      <td>VIOLATION ISSUED</td>\n",
       "      <td>MOBILE BUS LANE</td>\n",
       "      <td>NaN</td>\n",
       "      <td>40.720833</td>\n",
       "      <td>-73.989316</td>\n",
       "      <td>405320</td>\n",
       "      <td>ALLEN ST/GRAND ST</td>\n",
       "      <td>40.717171</td>\n",
       "      <td>-73.991222</td>\n",
       "      <td>POINT (-73.989316 40.7208326666667)</td>\n",
       "      <td>POINT (-73.991222 40.717171)</td>\n",
       "    </tr>\n",
       "    <tr>\n",
       "      <th>3502548</th>\n",
       "      <td>320280726</td>\n",
       "      <td>4bb426b65c6cc2cd84b8341a3c1110d01fb7485d90c4fe...</td>\n",
       "      <td>05/28/2022 02:05:19 PM</td>\n",
       "      <td>05/28/2022 02:12:02 PM</td>\n",
       "      <td>VIOLATION ISSUED</td>\n",
       "      <td>MOBILE BUS LANE</td>\n",
       "      <td>NaN</td>\n",
       "      <td>40.720637</td>\n",
       "      <td>-73.989413</td>\n",
       "      <td>405320</td>\n",
       "      <td>ALLEN ST/GRAND ST</td>\n",
       "      <td>40.717171</td>\n",
       "      <td>-73.991222</td>\n",
       "      <td>POINT (-73.9894125 40.7206366666667)</td>\n",
       "      <td>POINT (-73.991222 40.717171)</td>\n",
       "    </tr>\n",
       "    <tr>\n",
       "      <th>3502549</th>\n",
       "      <td>320280722</td>\n",
       "      <td>d124ee51ac69c43e8c4ffaa6b2b5509f8ae384b9749c8f...</td>\n",
       "      <td>05/28/2022 04:44:02 PM</td>\n",
       "      <td>05/28/2022 05:08:02 PM</td>\n",
       "      <td>EXEMPT - EMERGENCY VEHICLE</td>\n",
       "      <td>MOBILE BUS LANE</td>\n",
       "      <td>NaN</td>\n",
       "      <td>40.730797</td>\n",
       "      <td>-73.982646</td>\n",
       "      <td>903093</td>\n",
       "      <td>1 AV/E 1 ST</td>\n",
       "      <td>40.724012</td>\n",
       "      <td>-73.987802</td>\n",
       "      <td>POINT (-73.9826458333333 40.7307973333333)</td>\n",
       "      <td>POINT (-73.987802 40.724012)</td>\n",
       "    </tr>\n",
       "    <tr>\n",
       "      <th>3502550</th>\n",
       "      <td>320280715</td>\n",
       "      <td>1a6645f96834b5c90554123335c8c1799c5a18180e2f64...</td>\n",
       "      <td>05/28/2022 07:35:14 AM</td>\n",
       "      <td>05/28/2022 07:52:34 AM</td>\n",
       "      <td>VIOLATION ISSUED</td>\n",
       "      <td>MOBILE BUS LANE</td>\n",
       "      <td>NaN</td>\n",
       "      <td>40.635362</td>\n",
       "      <td>-73.947982</td>\n",
       "      <td>303477</td>\n",
       "      <td>NOSTRAND AV/NEWKIRK AV</td>\n",
       "      <td>40.640085</td>\n",
       "      <td>-73.948517</td>\n",
       "      <td>POINT (-73.9479825 40.6353616666667)</td>\n",
       "      <td>POINT (-73.948517 40.640085)</td>\n",
       "    </tr>\n",
       "    <tr>\n",
       "      <th>3502551</th>\n",
       "      <td>320280714</td>\n",
       "      <td>b66fa433bb53693528021bc441267c07e45ca482979f49...</td>\n",
       "      <td>05/28/2022 07:35:21 AM</td>\n",
       "      <td>05/28/2022 07:52:40 AM</td>\n",
       "      <td>VIOLATION ISSUED</td>\n",
       "      <td>MOBILE BUS LANE</td>\n",
       "      <td>NaN</td>\n",
       "      <td>40.634748</td>\n",
       "      <td>-73.947907</td>\n",
       "      <td>303477</td>\n",
       "      <td>NOSTRAND AV/NEWKIRK AV</td>\n",
       "      <td>40.640085</td>\n",
       "      <td>-73.948517</td>\n",
       "      <td>POINT (-73.9479075 40.6347476666667)</td>\n",
       "      <td>POINT (-73.948517 40.640085)</td>\n",
       "    </tr>\n",
       "    <tr>\n",
       "      <th>...</th>\n",
       "      <td>...</td>\n",
       "      <td>...</td>\n",
       "      <td>...</td>\n",
       "      <td>...</td>\n",
       "      <td>...</td>\n",
       "      <td>...</td>\n",
       "      <td>...</td>\n",
       "      <td>...</td>\n",
       "      <td>...</td>\n",
       "      <td>...</td>\n",
       "      <td>...</td>\n",
       "      <td>...</td>\n",
       "      <td>...</td>\n",
       "      <td>...</td>\n",
       "      <td>...</td>\n",
       "    </tr>\n",
       "    <tr>\n",
       "      <th>3769215</th>\n",
       "      <td>219521764</td>\n",
       "      <td>85bafa84779ae3e45b751483eb1479ad732d9c41c30a9f...</td>\n",
       "      <td>11/14/2019 08:57:21 AM</td>\n",
       "      <td>11/14/2019 10:47:21 AM</td>\n",
       "      <td>TECHNICAL ISSUE/OTHER</td>\n",
       "      <td>MOBILE BUS LANE</td>\n",
       "      <td>NaN</td>\n",
       "      <td>40.677394</td>\n",
       "      <td>-73.952795</td>\n",
       "      <td>901280</td>\n",
       "      <td>ROGERS AV/SAINT JOHNS PLACE</td>\n",
       "      <td>40.671592</td>\n",
       "      <td>-73.952889</td>\n",
       "      <td>POINT (-73.95279467 40.67739367)</td>\n",
       "      <td>POINT (-73.952889 40.671592)</td>\n",
       "    </tr>\n",
       "    <tr>\n",
       "      <th>3769216</th>\n",
       "      <td>219521754</td>\n",
       "      <td>f827fd57d750b9adb11c22905b21cbabe0196c877fdd6a...</td>\n",
       "      <td>11/14/2019 10:47:20 AM</td>\n",
       "      <td>11/14/2019 10:57:59 AM</td>\n",
       "      <td>TECHNICAL ISSUE/OTHER</td>\n",
       "      <td>MOBILE BUS LANE</td>\n",
       "      <td>NaN</td>\n",
       "      <td>40.677238</td>\n",
       "      <td>-73.952687</td>\n",
       "      <td>901280</td>\n",
       "      <td>ROGERS AV/SAINT JOHNS PLACE</td>\n",
       "      <td>40.671592</td>\n",
       "      <td>-73.952889</td>\n",
       "      <td>POINT (-73.95268667 40.67723833)</td>\n",
       "      <td>POINT (-73.952889 40.671592)</td>\n",
       "    </tr>\n",
       "    <tr>\n",
       "      <th>3769217</th>\n",
       "      <td>219521737</td>\n",
       "      <td>05d72d9df3226a0c434811ce4e75417d967cd28d8ff111...</td>\n",
       "      <td>11/14/2019 10:08:36 AM</td>\n",
       "      <td>11/14/2019 10:47:19 AM</td>\n",
       "      <td>TECHNICAL ISSUE/OTHER</td>\n",
       "      <td>MOBILE BUS LANE</td>\n",
       "      <td>NaN</td>\n",
       "      <td>40.677201</td>\n",
       "      <td>-73.952760</td>\n",
       "      <td>901280</td>\n",
       "      <td>ROGERS AV/SAINT JOHNS PLACE</td>\n",
       "      <td>40.671592</td>\n",
       "      <td>-73.952889</td>\n",
       "      <td>POINT (-73.95275967 40.67720133)</td>\n",
       "      <td>POINT (-73.952889 40.671592)</td>\n",
       "    </tr>\n",
       "    <tr>\n",
       "      <th>3771007</th>\n",
       "      <td>218854922</td>\n",
       "      <td>b56b50d3e645d802969e020a2c5a3955aed62e58083b2f...</td>\n",
       "      <td>11/08/2019 03:12:14 PM</td>\n",
       "      <td>11/08/2019 03:43:11 PM</td>\n",
       "      <td>TECHNICAL ISSUE/OTHER</td>\n",
       "      <td>MOBILE BUS LANE</td>\n",
       "      <td>NaN</td>\n",
       "      <td>40.677344</td>\n",
       "      <td>-73.952704</td>\n",
       "      <td>901280</td>\n",
       "      <td>ROGERS AV/SAINT JOHNS PLACE</td>\n",
       "      <td>40.671592</td>\n",
       "      <td>-73.952889</td>\n",
       "      <td>POINT (-73.95270383 40.67734433)</td>\n",
       "      <td>POINT (-73.952889 40.671592)</td>\n",
       "    </tr>\n",
       "    <tr>\n",
       "      <th>3774890</th>\n",
       "      <td>217524527</td>\n",
       "      <td>NaN</td>\n",
       "      <td>10/25/2019 02:32:50 PM</td>\n",
       "      <td>10/25/2019 02:46:17 PM</td>\n",
       "      <td>TECHNICAL ISSUE/OTHER</td>\n",
       "      <td>MOBILE BUS LANE</td>\n",
       "      <td>NaN</td>\n",
       "      <td>40.616135</td>\n",
       "      <td>-73.927081</td>\n",
       "      <td>901494</td>\n",
       "      <td>UTICA AV/FILLMORE AV (NON-PUBLIC/FOR RELIEFS)</td>\n",
       "      <td>40.614579</td>\n",
       "      <td>-73.926533</td>\n",
       "      <td>POINT (-73.92708117 40.61613533)</td>\n",
       "      <td>POINT (-73.926533 40.614579)</td>\n",
       "    </tr>\n",
       "  </tbody>\n",
       "</table>\n",
       "<p>10749 rows × 15 columns</p>\n",
       "</div>"
      ],
      "text/plain": [
       "         Violation ID                                         Vehicle ID  \\\n",
       "3502547     320280727  d0ea36bdbe16a5f585ca7c429f52e5ed25a243d9e2dd76...   \n",
       "3502548     320280726  4bb426b65c6cc2cd84b8341a3c1110d01fb7485d90c4fe...   \n",
       "3502549     320280722  d124ee51ac69c43e8c4ffaa6b2b5509f8ae384b9749c8f...   \n",
       "3502550     320280715  1a6645f96834b5c90554123335c8c1799c5a18180e2f64...   \n",
       "3502551     320280714  b66fa433bb53693528021bc441267c07e45ca482979f49...   \n",
       "...               ...                                                ...   \n",
       "3769215     219521764  85bafa84779ae3e45b751483eb1479ad732d9c41c30a9f...   \n",
       "3769216     219521754  f827fd57d750b9adb11c22905b21cbabe0196c877fdd6a...   \n",
       "3769217     219521737  05d72d9df3226a0c434811ce4e75417d967cd28d8ff111...   \n",
       "3771007     218854922  b56b50d3e645d802969e020a2c5a3955aed62e58083b2f...   \n",
       "3774890     217524527                                                NaN   \n",
       "\n",
       "               First Occurrence         Last Occurrence  \\\n",
       "3502547  05/28/2022 02:05:24 PM  05/28/2022 02:12:05 PM   \n",
       "3502548  05/28/2022 02:05:19 PM  05/28/2022 02:12:02 PM   \n",
       "3502549  05/28/2022 04:44:02 PM  05/28/2022 05:08:02 PM   \n",
       "3502550  05/28/2022 07:35:14 AM  05/28/2022 07:52:34 AM   \n",
       "3502551  05/28/2022 07:35:21 AM  05/28/2022 07:52:40 AM   \n",
       "...                         ...                     ...   \n",
       "3769215  11/14/2019 08:57:21 AM  11/14/2019 10:47:21 AM   \n",
       "3769216  11/14/2019 10:47:20 AM  11/14/2019 10:57:59 AM   \n",
       "3769217  11/14/2019 10:08:36 AM  11/14/2019 10:47:19 AM   \n",
       "3771007  11/08/2019 03:12:14 PM  11/08/2019 03:43:11 PM   \n",
       "3774890  10/25/2019 02:32:50 PM  10/25/2019 02:46:17 PM   \n",
       "\n",
       "                   Violation Status   Violation Type Bus Route ID  \\\n",
       "3502547            VIOLATION ISSUED  MOBILE BUS LANE          NaN   \n",
       "3502548            VIOLATION ISSUED  MOBILE BUS LANE          NaN   \n",
       "3502549  EXEMPT - EMERGENCY VEHICLE  MOBILE BUS LANE          NaN   \n",
       "3502550            VIOLATION ISSUED  MOBILE BUS LANE          NaN   \n",
       "3502551            VIOLATION ISSUED  MOBILE BUS LANE          NaN   \n",
       "...                             ...              ...          ...   \n",
       "3769215       TECHNICAL ISSUE/OTHER  MOBILE BUS LANE          NaN   \n",
       "3769216       TECHNICAL ISSUE/OTHER  MOBILE BUS LANE          NaN   \n",
       "3769217       TECHNICAL ISSUE/OTHER  MOBILE BUS LANE          NaN   \n",
       "3771007       TECHNICAL ISSUE/OTHER  MOBILE BUS LANE          NaN   \n",
       "3774890       TECHNICAL ISSUE/OTHER  MOBILE BUS LANE          NaN   \n",
       "\n",
       "         Violation Latitude  Violation Longitude  Stop ID  \\\n",
       "3502547           40.720833           -73.989316   405320   \n",
       "3502548           40.720637           -73.989413   405320   \n",
       "3502549           40.730797           -73.982646   903093   \n",
       "3502550           40.635362           -73.947982   303477   \n",
       "3502551           40.634748           -73.947907   303477   \n",
       "...                     ...                  ...      ...   \n",
       "3769215           40.677394           -73.952795   901280   \n",
       "3769216           40.677238           -73.952687   901280   \n",
       "3769217           40.677201           -73.952760   901280   \n",
       "3771007           40.677344           -73.952704   901280   \n",
       "3774890           40.616135           -73.927081   901494   \n",
       "\n",
       "                                             Stop Name  Bus Stop Latitude  \\\n",
       "3502547                              ALLEN ST/GRAND ST          40.717171   \n",
       "3502548                              ALLEN ST/GRAND ST          40.717171   \n",
       "3502549                                    1 AV/E 1 ST          40.724012   \n",
       "3502550                         NOSTRAND AV/NEWKIRK AV          40.640085   \n",
       "3502551                         NOSTRAND AV/NEWKIRK AV          40.640085   \n",
       "...                                                ...                ...   \n",
       "3769215                    ROGERS AV/SAINT JOHNS PLACE          40.671592   \n",
       "3769216                    ROGERS AV/SAINT JOHNS PLACE          40.671592   \n",
       "3769217                    ROGERS AV/SAINT JOHNS PLACE          40.671592   \n",
       "3771007                    ROGERS AV/SAINT JOHNS PLACE          40.671592   \n",
       "3774890  UTICA AV/FILLMORE AV (NON-PUBLIC/FOR RELIEFS)          40.614579   \n",
       "\n",
       "         Bus Stop Longitude                      Violation Georeference  \\\n",
       "3502547          -73.991222         POINT (-73.989316 40.7208326666667)   \n",
       "3502548          -73.991222        POINT (-73.9894125 40.7206366666667)   \n",
       "3502549          -73.987802  POINT (-73.9826458333333 40.7307973333333)   \n",
       "3502550          -73.948517        POINT (-73.9479825 40.6353616666667)   \n",
       "3502551          -73.948517        POINT (-73.9479075 40.6347476666667)   \n",
       "...                     ...                                         ...   \n",
       "3769215          -73.952889            POINT (-73.95279467 40.67739367)   \n",
       "3769216          -73.952889            POINT (-73.95268667 40.67723833)   \n",
       "3769217          -73.952889            POINT (-73.95275967 40.67720133)   \n",
       "3771007          -73.952889            POINT (-73.95270383 40.67734433)   \n",
       "3774890          -73.926533            POINT (-73.92708117 40.61613533)   \n",
       "\n",
       "                Bus Stop Georeference  \n",
       "3502547  POINT (-73.991222 40.717171)  \n",
       "3502548  POINT (-73.991222 40.717171)  \n",
       "3502549  POINT (-73.987802 40.724012)  \n",
       "3502550  POINT (-73.948517 40.640085)  \n",
       "3502551  POINT (-73.948517 40.640085)  \n",
       "...                               ...  \n",
       "3769215  POINT (-73.952889 40.671592)  \n",
       "3769216  POINT (-73.952889 40.671592)  \n",
       "3769217  POINT (-73.952889 40.671592)  \n",
       "3771007  POINT (-73.952889 40.671592)  \n",
       "3774890  POINT (-73.926533 40.614579)  \n",
       "\n",
       "[10749 rows x 15 columns]"
      ]
     },
     "execution_count": 615,
     "metadata": {},
     "output_type": "execute_result"
    }
   ],
   "source": [
    "ace_violation_ds = \"MTA_Bus_Automated_Camera_Enforcement_Violations__Beginning_October_2019_20250918.csv\"\n",
    "\n",
    "#georeference?\n",
    "\n",
    "# GET A SMALLER CSV FILE DAMN!!!!!\n",
    "violations = pd.read_csv(ace_violation_ds, dtype={'Vehicle ID': str, 'First Occurrence':str, \"Last Occurrence\": str, \"Violation Status\": str,           \n",
    "\"Violation Type\":str, 'Bus Route ID': str, 'Stop Name': str})\n",
    "\n",
    "\n",
    "# B11 = violations[violations['Bus Route ID'] == 'B11']\n",
    "\n",
    "violations.dropna(subset=['Bus Route ID'], inplace=True)\n",
    "violations = violations[violations['Bus Route ID'].isin(CUNY_buses)]"
   ]
  },
  {
   "cell_type": "code",
   "execution_count": null,
   "id": "731883f9",
   "metadata": {},
   "outputs": [],
   "source": [
    "B11"
   ]
  },
  {
   "cell_type": "code",
   "execution_count": null,
   "id": "6052bb0f",
   "metadata": {},
   "outputs": [],
   "source": [
    "violations['First Occurrence'] = pd.to_datetime(violations['First Occurrence'], format='%m/%d/%Y %I:%M:%S %p')\n",
    "violations['Last Occurrence'] = pd.to_datetime(violations['Last Occurrence'], format='%m/%d/%Y %I:%M:%S %p')"
   ]
  },
  {
   "cell_type": "code",
   "execution_count": null,
   "id": "02538d7e",
   "metadata": {},
   "outputs": [],
   "source": [
    "start_date = \"2025-08-06\"\n",
    "end_date = \"2025-08-20\"\n",
    "\n",
    "violations = violations[(violations['First Occurrence'] >= start_date) & (violations['First Occurrence'] <= end_date)]\n"
   ]
  },
  {
   "cell_type": "code",
   "execution_count": null,
   "id": "7be4c466",
   "metadata": {},
   "outputs": [],
   "source": []
  },
  {
   "cell_type": "code",
   "execution_count": null,
   "id": "e4c3412e",
   "metadata": {},
   "outputs": [],
   "source": [
    "# get different violation types\n",
    "# make a heatmap\n",
    "\n",
    "violations.head(9)"
   ]
  },
  {
   "cell_type": "code",
   "execution_count": null,
   "id": "dc062229",
   "metadata": {},
   "outputs": [],
   "source": [
    "violation_type = violations[\"Violation Type\"].unique()\n",
    "\n",
    "print(violation_type)"
   ]
  },
  {
   "cell_type": "code",
   "execution_count": null,
   "id": "c73c54c8",
   "metadata": {},
   "outputs": [],
   "source": [
    "violation_status = violations[\"Violation Status\"].unique()\n",
    "\n",
    "print(violation_status)"
   ]
  },
  {
   "cell_type": "code",
   "execution_count": null,
   "id": "14ca4f70",
   "metadata": {},
   "outputs": [],
   "source": [
    "# violations.apply(lambda row:folium.CircleMarker(location=[row[\"Violation Latitude\"], row[\"Violation Longitude\"]], \n",
    "#                                                radius=10, popup=f\"{row['Violation Type']} Status: {row[\"Violation Status\"]}\").add_to(m), axis=1)"
   ]
  },
  {
   "cell_type": "code",
   "execution_count": null,
   "id": "fef60ca0",
   "metadata": {},
   "outputs": [],
   "source": [
    "rows, columns = violations.shape\n",
    "print(f\"Rows: {rows}, Columns: {columns}\")"
   ]
  },
  {
   "cell_type": "code",
   "execution_count": null,
   "id": "053670b9",
   "metadata": {},
   "outputs": [],
   "source": [
    "# ['MOBILE BUS STOP' 'MOBILE BUS LANE' 'MOBILE DOUBLE PARKED']\n",
    "bus_stop = violations[violations[\"Violation Type\"] == 'MOBILE BUS STOP']\n",
    "bus_lane = violations[violations[\"Violation Type\"] == 'MOBILE BUS LANE']\n",
    "double_parked = violations[violations[\"Violation Type\"] == 'MOBILE DOUBLE PARKED'] "
   ]
  },
  {
   "cell_type": "code",
   "execution_count": null,
   "id": "3e93d5e4",
   "metadata": {},
   "outputs": [],
   "source": [
    "from folium.plugins import HeatMap\n",
    "\n",
    "heat_data = [[row['Violation Latitude'], row['Violation Longitude']] for index, row in bus_stop.iterrows()]\n",
    "\n",
    "HeatMap(heat_data, radius=15, blur=15, max_val=10).add_to(folium.FeatureGroup(name='Bus Stop Violations', show=False).add_to(m))"
   ]
  },
  {
   "cell_type": "code",
   "execution_count": null,
   "id": "68bc384f",
   "metadata": {},
   "outputs": [],
   "source": [
    "heat_data = [[row['Violation Latitude'], row['Violation Longitude']] for index, row in bus_lane.iterrows()]\n",
    "\n",
    "HeatMap(heat_data, radius=15, blur=15, max_val=10).add_to(folium.FeatureGroup(name='Bus Lane Violation', show=False).add_to(m))"
   ]
  },
  {
   "cell_type": "code",
   "execution_count": null,
   "id": "019f33a6",
   "metadata": {},
   "outputs": [],
   "source": [
    "heat_data = [[row['Violation Latitude'], row['Violation Longitude']] for index, row in double_parked.iterrows()]\n",
    "\n",
    "HeatMap(heat_data, radius=15, blur=15, max_val=10).add_to(folium.FeatureGroup(name='Double Parked Violation', show=False).add_to(m))"
   ]
  },
  {
   "cell_type": "code",
   "execution_count": null,
   "id": "9857264d",
   "metadata": {},
   "outputs": [],
   "source": [
    "folium.LayerControl().add_to(m)"
   ]
  },
  {
   "cell_type": "code",
   "execution_count": null,
   "id": "6847dd65",
   "metadata": {},
   "outputs": [],
   "source": [
    "m"
   ]
  }
 ],
 "metadata": {
  "kernelspec": {
   "display_name": "Python 3",
   "language": "python",
   "name": "python3"
  },
  "language_info": {
   "codemirror_mode": {
    "name": "ipython",
    "version": 3
   },
   "file_extension": ".py",
   "mimetype": "text/x-python",
   "name": "python",
   "nbconvert_exporter": "python",
   "pygments_lexer": "ipython3",
   "version": "3.13.1"
  }
 },
 "nbformat": 4,
 "nbformat_minor": 5
}
